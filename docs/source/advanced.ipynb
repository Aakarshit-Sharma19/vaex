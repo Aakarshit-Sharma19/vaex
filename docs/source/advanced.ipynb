{
 "cells": [
  {
   "cell_type": "markdown",
   "metadata": {},
   "source": [
    "# Advanced topics\n",
    "\n",
    "## Caching"
   ]
  },
  {
   "cell_type": "markdown",
   "metadata": {},
   "source": [
    "Vaex can cache task results, such as aggregations, or the internal hashmaps used for `groupby` operations to make recurring calculations much faster, at the cost of calculating cache keys and storing/retrieving the cached values.\n",
    "\n",
    "Internally, Vaex calculates fingerprints (e.g. hashes of data, or file paths and mtimes) to create cache keys that are similar across processes, so that a restart of a process will most likely result in similar hash keys.\n",
    "\n",
    "[See configuration of the cache.](conf.html#cache)\n",
    "\n",
    "Caches can be turned on globally like this:"
   ]
  },
  {
   "cell_type": "code",
   "execution_count": 1,
   "metadata": {
    "ExecuteTime": {
     "end_time": "2022-01-12T11:45:55.101798Z",
     "start_time": "2022-01-12T11:45:53.906513Z"
    }
   },
   "outputs": [],
   "source": [
    "import vaex\n",
    "df = vaex.datasets.titanic()\n",
    "vaex.cache.memory();  # cache on globally"
   ]
  },
  {
   "cell_type": "markdown",
   "metadata": {
    "lines_to_next_cell": 0
   },
   "source": [
    "One can verify that the cache is turned on via:"
   ]
  },
  {
   "cell_type": "code",
   "execution_count": 2,
   "metadata": {
    "ExecuteTime": {
     "end_time": "2022-01-12T11:45:55.105911Z",
     "start_time": "2022-01-12T11:45:55.102763Z"
    },
    "lines_to_next_cell": 2
   },
   "outputs": [
    {
     "data": {
      "text/plain": [
       "True"
      ]
     },
     "execution_count": 2,
     "metadata": {},
     "output_type": "execute_result"
    }
   ],
   "source": [
    "vaex.cache.is_on()"
   ]
  },
  {
   "cell_type": "markdown",
   "metadata": {},
   "source": [
    "The cache can be globally turned off again:"
   ]
  },
  {
   "cell_type": "code",
   "execution_count": 3,
   "metadata": {
    "ExecuteTime": {
     "end_time": "2022-01-12T11:45:55.111956Z",
     "start_time": "2022-01-12T11:45:55.107841Z"
    }
   },
   "outputs": [
    {
     "data": {
      "text/plain": [
       "False"
      ]
     },
     "execution_count": 3,
     "metadata": {},
     "output_type": "execute_result"
    }
   ],
   "source": [
    "vaex.cache.off()\n",
    "vaex.cache.is_on()"
   ]
  },
  {
   "cell_type": "markdown",
   "metadata": {},
   "source": [
    "The cache can also be turned on with a context manager, after which it will be turned off again. Here we use a disk cache. Disk cache is shared among processes, and is ideal for processes that restart, or when using Vaex in a web service with multiple workers. Consider the following example:"
   ]
  },
  {
   "cell_type": "code",
   "execution_count": 4,
   "metadata": {
    "ExecuteTime": {
     "end_time": "2022-01-12T11:45:55.375886Z",
     "start_time": "2022-01-12T11:45:55.112568Z"
    }
   },
   "outputs": [
    {
     "name": "stdout",
     "output_type": "stream",
     "text": [
      "29.8811345124283\n"
     ]
    }
   ],
   "source": [
    "with vaex.cache.disk(clear=True):\n",
    "    print(df.age.mean())  # The very first time the mean is computed"
   ]
  },
  {
   "cell_type": "code",
   "execution_count": 5,
   "metadata": {
    "ExecuteTime": {
     "end_time": "2022-01-12T11:45:55.378654Z",
     "start_time": "2022-01-12T11:45:55.376615Z"
    }
   },
   "outputs": [
    {
     "data": {
      "text/plain": [
       "False"
      ]
     },
     "execution_count": 5,
     "metadata": {},
     "output_type": "execute_result"
    }
   ],
   "source": [
    "# outside of the context manager, the cache is still off\n",
    "vaex.cache.is_on()"
   ]
  },
  {
   "cell_type": "code",
   "execution_count": 6,
   "metadata": {
    "ExecuteTime": {
     "end_time": "2022-01-12T11:45:55.397582Z",
     "start_time": "2022-01-12T11:45:55.379276Z"
    }
   },
   "outputs": [
    {
     "name": "stdout",
     "output_type": "stream",
     "text": [
      "29.8811345124283\n"
     ]
    }
   ],
   "source": [
    "with vaex.cache.disk():\n",
    "    print(df.age.mean())  # The second time the result is read from the cache"
   ]
  },
  {
   "cell_type": "code",
   "execution_count": 7,
   "metadata": {
    "ExecuteTime": {
     "end_time": "2022-01-12T11:45:55.401467Z",
     "start_time": "2022-01-12T11:45:55.399089Z"
    }
   },
   "outputs": [
    {
     "data": {
      "text/plain": [
       "False"
      ]
     },
     "execution_count": 7,
     "metadata": {},
     "output_type": "execute_result"
    }
   ],
   "source": [
    "vaex.cache.is_on()"
   ]
  },
  {
   "cell_type": "markdown",
   "metadata": {},
   "source": [
    "## Progress bars\n",
    "\n",
    "Usually progress bars give an an idea of how long a computation might take. [Rich](https://rich.readthedocs.io/) based progress bars take this idea to the next level. With Rich one gets to see a tree structure of progress bars that give the user an idea of what Vaex does internally, and how long each step takes. Each leaf in this tree is a `Task`, while the nodes are used to group tasks logically. For instance, in the following example the last node named 'mean' uses the mean aggregation, which creates two tasks: sum and count agregations."
   ]
  },
  {
   "cell_type": "code",
   "execution_count": 8,
   "metadata": {
    "ExecuteTime": {
     "end_time": "2022-01-12T11:45:57.493404Z",
     "start_time": "2022-01-12T11:45:55.402509Z"
    }
   },
   "outputs": [
    {
     "data": {
      "application/vnd.jupyter.widget-view+json": {
       "model_id": "4d92bd99a8254e5cb47d1e981d0cbc9c",
       "version_major": 2,
       "version_minor": 0
      },
      "text/plain": [
       "Output()"
      ]
     },
     "metadata": {},
     "output_type": "display_data"
    }
   ],
   "source": [
    "df = vaex.datasets.taxi()\n",
    "\n",
    "with vaex.progress.tree('rich', title=\"My Vaex computations\"):\n",
    "    result_1 = df.groupby('passenger_count', agg='count')\n",
    "    result_2 = df.groupby('vendor_id', agg=vaex.agg.sum('tip_amount'))    \n",
    "    result_3 = df.tip_amount.mean()"
   ]
  },
  {
   "cell_type": "markdown",
   "metadata": {},
   "source": [
    "In the last column (between brackets) we also see how many passes over the data Vaex had to do to compute all results. The last two tasks are done together in the 5th pass.\n",
    "\n",
    "If we want to do all computations in a single pass over the data for performance reason, we can use Vaex' async way, by adding the delayed argument (see [Async programming with Vaex](...) for more details)."
   ]
  },
  {
   "cell_type": "code",
   "execution_count": 9,
   "metadata": {
    "ExecuteTime": {
     "end_time": "2022-01-12T11:45:58.946569Z",
     "start_time": "2022-01-12T11:45:57.494185Z"
    }
   },
   "outputs": [
    {
     "data": {
      "application/vnd.jupyter.widget-view+json": {
       "model_id": "cd4bee8f9b214c0eb2360567bbc4eb06",
       "version_major": 2,
       "version_minor": 0
      },
      "text/plain": [
       "Output()"
      ]
     },
     "metadata": {},
     "output_type": "display_data"
    }
   ],
   "source": [
    "df = vaex.datasets.taxi()\n",
    "\n",
    "with vaex.progress.tree('rich', title=\"My Vaex computations\"):\n",
    "    result_1 = df.groupby('passenger_count', agg='count', delay=True)\n",
    "    result_2 = df.groupby('vendor_id', agg=vaex.agg.sum('tip_amount'), delay=True)    \n",
    "    result_3 = df.tip_amount.mean(delay=True)\n",
    "    df.execute()\n",
    "result_1 = result_1.get()\n",
    "result_2 = result_2.get()\n",
    "result_3 = result_3.get()"
   ]
  },
  {
   "cell_type": "markdown",
   "metadata": {},
   "source": [
    "We see that all computations are done in a single pass over the data, which is slightly faster in this case because we are not IO bound. On slower disks, or slower formats (e.g. parquet) this difference will be larger.\n",
    "\n",
    "Combining this with the [caching](...) feature, we can clearly see the effect on later calculations, and the efficiency of Vaex:"
   ]
  },
  {
   "cell_type": "code",
   "execution_count": 10,
   "metadata": {
    "ExecuteTime": {
     "end_time": "2022-01-12T11:46:00.509916Z",
     "start_time": "2022-01-12T11:45:58.947315Z"
    }
   },
   "outputs": [
    {
     "data": {
      "application/vnd.jupyter.widget-view+json": {
       "model_id": "e0040cc1d4c9499fbf34c080269ab735",
       "version_major": 2,
       "version_minor": 0
      },
      "text/plain": [
       "Output()"
      ]
     },
     "metadata": {},
     "output_type": "display_data"
    },
    {
     "data": {
      "application/vnd.jupyter.widget-view+json": {
       "model_id": "da2ee0a999be4009a742072a2976cbef",
       "version_major": 2,
       "version_minor": 0
      },
      "text/plain": [
       "Output()"
      ]
     },
     "metadata": {},
     "output_type": "display_data"
    }
   ],
   "source": [
    "vaex.cache.disk(clear=True)  # turn on cache, and delete all cache entries\n",
    "\n",
    "with vaex.progress.tree('rich', title=\"Warm up cache\"):\n",
    "    result_1 = df.groupby('passenger_count', agg='count', delay=True)\n",
    "    result_2 = df.groupby('vendor_id', agg=vaex.agg.sum('tip_amount'), delay=True)    \n",
    "    df.execute()\n",
    "\n",
    "\n",
    "with vaex.progress.tree('rich', title=\"My Vaex computations\"):\n",
    "    result_1 = df.groupby('passenger_count', agg='count', delay=True)\n",
    "    result_2 = df.groupby('vendor_id', agg=vaex.agg.sum('tip_amount'), delay=True)    \n",
    "    result_3 = df.tip_amount.mean(delay=True)\n",
    "    df.execute()\n",
    "vaex.cache.off();"
   ]
  },
  {
   "cell_type": "markdown",
   "metadata": {},
   "source": [
    "[Learn more about caching in Vaex.](...)"
   ]
  },
  {
   "cell_type": "markdown",
   "metadata": {},
   "source": [
    "## Async programming with Vaex\n",
    "\n",
    "Using the [Rich based progress bar](...) we can see that if we call two methods on a dataframe, we get two passes over the data (as indicated by the `[1]` and `[2]`). "
   ]
  },
  {
   "cell_type": "code",
   "execution_count": 11,
   "metadata": {
    "ExecuteTime": {
     "end_time": "2022-01-12T11:46:00.599521Z",
     "start_time": "2022-01-12T11:46:00.510574Z"
    }
   },
   "outputs": [
    {
     "data": {
      "application/vnd.jupyter.widget-view+json": {
       "model_id": "474efb69e8fc45e7990b9f9a5dfa614e",
       "version_major": 2,
       "version_minor": 0
      },
      "text/plain": [
       "Output()"
      ]
     },
     "metadata": {},
     "output_type": "display_data"
    },
    {
     "name": "stdout",
     "output_type": "stream",
     "text": [
      "119031704.4405651\n",
      "206151178\n"
     ]
    }
   ],
   "source": [
    "df = vaex.datasets.taxi()\n",
    "with vaex.progress.tree('rich', title=\"Two passes\"):\n",
    "    print(df.tip_amount.sum())\n",
    "    print(df.passenger_count.sum())"
   ]
  },
  {
   "cell_type": "markdown",
   "metadata": {},
   "source": [
    "### Using delay=True\n",
    "\n",
    "If we pass `delay=True`, Vaex will not start to execute the tasks it created internally, but will return a [promise](https://en.wikipedia.org/wiki/Futures_and_promises) instead. After calling `df.execute()` all tasks will execute, and the promises will be resolved, meaning that you can use the `.get()` method to get the final value, or use the `.then()` method to represent the result."
   ]
  },
  {
   "cell_type": "code",
   "execution_count": 12,
   "metadata": {
    "ExecuteTime": {
     "end_time": "2022-01-12T11:46:00.664261Z",
     "start_time": "2022-01-12T11:46:00.600269Z"
    }
   },
   "outputs": [
    {
     "data": {
      "application/vnd.jupyter.widget-view+json": {
       "model_id": "b44edbf2476f427fbb1eb13d37d909d7",
       "version_major": 2,
       "version_minor": 0
      },
      "text/plain": [
       "Output()"
      ]
     },
     "metadata": {},
     "output_type": "display_data"
    },
    {
     "name": "stdout",
     "output_type": "stream",
     "text": [
      "tip_per_passenger = 0.5774000691888608\n"
     ]
    }
   ],
   "source": [
    "with vaex.progress.tree('rich', title=\"Single pass using delay\"):\n",
    "    tip_sum_promise = df.tip_amount.sum(delay=True)\n",
    "    passengers_promise = df.passenger_count.sum(delay=True)\n",
    "    df.execute()\n",
    "    tip_per_passenger = tip_sum_promise.get() / passengers_promise.get()\n",
    "    print(f\"tip_per_passenger = {tip_per_passenger}\")"
   ]
  },
  {
   "cell_type": "markdown",
   "metadata": {},
   "source": [
    "### Using delayed decorator\n",
    "\n",
    "To make life easier, Vaex implements the [`@vaex.delayed`](https://vaex.io/docs/api.html#vaex.delayed) decorator. Once all arguments are resolved, the decorated function will be executed automatically."
   ]
  },
  {
   "cell_type": "code",
   "execution_count": 13,
   "metadata": {
    "ExecuteTime": {
     "end_time": "2022-01-12T11:46:00.731470Z",
     "start_time": "2022-01-12T11:46:00.665020Z"
    }
   },
   "outputs": [
    {
     "data": {
      "application/vnd.jupyter.widget-view+json": {
       "model_id": "4b6969b5b73243928600f4232fd12742",
       "version_major": 2,
       "version_minor": 0
      },
      "text/plain": [
       "Output()"
      ]
     },
     "metadata": {},
     "output_type": "display_data"
    },
    {
     "name": "stdout",
     "output_type": "stream",
     "text": [
      "tip_per_passenger = 0.5774000691888608\n"
     ]
    }
   ],
   "source": [
    "with vaex.progress.tree('rich', title=\"Single pass using delay + using delayed\"):\n",
    "    @vaex.delayed\n",
    "    def compute(tip_sum, passengers):\n",
    "        return tip_sum/passengers\n",
    "\n",
    "    tip_per_passenger_promise = compute(df.tip_amount.sum(delay=True),\n",
    "                                        df.passenger_count.sum(delay=True))\n",
    "    df.execute()\n",
    "    print(f\"tip_per_passenger = {tip_per_passenger_promise.get()}\")"
   ]
  },
  {
   "cell_type": "markdown",
   "metadata": {},
   "source": [
    "### Async await\n",
    "\n",
    "In all of the above cases, we called `df.execute()` which will synchronously execute all tasks using threads. However, if you are using Async IO in Python, this means you are blocking all other async coroutines from running.\n",
    "\n",
    "To allow other coroutines to continue running (e.g. in a FastAPI context), we can instead await `df.execute_async()`. On top of that, we can also `await` the promise to get the result, instead of calling `.get()` to make your code look more AsyncIO like.\n"
   ]
  },
  {
   "cell_type": "code",
   "execution_count": 14,
   "metadata": {
    "ExecuteTime": {
     "end_time": "2022-01-12T11:46:00.798928Z",
     "start_time": "2022-01-12T11:46:00.732166Z"
    }
   },
   "outputs": [
    {
     "data": {
      "application/vnd.jupyter.widget-view+json": {
       "model_id": "aac0ee28c8d14c7fafd82d856d8da5d4",
       "version_major": 2,
       "version_minor": 0
      },
      "text/plain": [
       "Output()"
      ]
     },
     "metadata": {},
     "output_type": "display_data"
    },
    {
     "name": "stdout",
     "output_type": "stream",
     "text": [
      "tip_per_passenger = 0.5774000691888607\n"
     ]
    }
   ],
   "source": [
    "with vaex.progress.tree('rich', title=\"Single pass using delay + using delayed and await\"):\n",
    "    @vaex.delayed\n",
    "    def compute(tip_sum, passengers):\n",
    "        return tip_sum/passengers\n",
    "\n",
    "    tip_per_passenger_promise = compute(df.tip_amount.sum(delay=True),\n",
    "                                        df.passenger_count.sum(delay=True))\n",
    "    await df.execute_async()\n",
    "    tip_per_passenger = await tip_per_passenger_promise\n",
    "    print(f\"tip_per_passenger = {tip_per_passenger}\")"
   ]
  },
  {
   "cell_type": "markdown",
   "metadata": {},
   "source": [
    "<div class=\"alert alert-info\">\n",
    "\n",
    "**Note:** In the Jupyter notebook, an asyncio event loop is already running. In a script you may need to use `asyncio.run(my_top_level_coroutine())` in order to use `await`.\n",
    "\n",
    "</div>\n",
    "\n",
    "### Async auto execute\n",
    "\n",
    "In the previous example we manually had to call `df.execute_async()`. This enables Vaex to execute all tasks in as little passes over the data as possible.\n",
    "\n",
    "To make life easier, and your code even more AsyncIO like, we can use the `df.executor.auto_execute()` async context manager that will automatically call `df.execute_async()` for you when a promise is awaited."
   ]
  },
  {
   "cell_type": "code",
   "execution_count": 15,
   "metadata": {
    "ExecuteTime": {
     "end_time": "2022-01-12T11:46:00.865531Z",
     "start_time": "2022-01-12T11:46:00.799578Z"
    }
   },
   "outputs": [
    {
     "data": {
      "application/vnd.jupyter.widget-view+json": {
       "model_id": "fa243120954647079ba1917473cc7056",
       "version_major": 2,
       "version_minor": 0
      },
      "text/plain": [
       "Output()"
      ]
     },
     "metadata": {},
     "output_type": "display_data"
    },
    {
     "name": "stdout",
     "output_type": "stream",
     "text": [
      "tip_per_passenger = 0.5774000691888607\n"
     ]
    }
   ],
   "source": [
    "with vaex.progress.tree('rich', title=\"Single pass using auto_execute\"):\n",
    "    async with df.executor.auto_execute():\n",
    "        @vaex.delayed\n",
    "        def compute(tip_sum, passengers):\n",
    "            return tip_sum/passengers\n",
    "\n",
    "        tip_per_passenger = await compute(df.tip_amount.sum(delay=True),\n",
    "                                          df.passenger_count.sum(delay=True))\n",
    "        print(f\"tip_per_passenger = {tip_per_passenger}\")"
   ]
  },
  {
   "cell_type": "code",
   "execution_count": null,
   "metadata": {},
   "outputs": [],
   "source": []
  }
 ],
 "metadata": {
  "jupytext": {
   "cell_metadata_filter": "-all",
   "main_language": "python",
   "notebook_metadata_filter": "-all"
  },
  "kernelspec": {
   "display_name": "Python 3",
   "language": "python",
   "name": "python3"
  },
  "language_info": {
   "codemirror_mode": {
    "name": "ipython",
    "version": 3
   },
   "file_extension": ".py",
   "mimetype": "text/x-python",
   "name": "python",
   "nbconvert_exporter": "python",
   "pygments_lexer": "ipython3",
   "version": "3.7.8"
  },
  "widgets": {
   "application/vnd.jupyter.widget-state+json": {
    "state": {
     "15199571984c4fb2afc5eada66457a65": {
      "model_module": "@jupyter-widgets/base",
      "model_module_version": "1.2.0",
      "model_name": "LayoutModel",
      "state": {}
     },
     "1cb0f12811314311b98f344709d225d8": {
      "model_module": "@jupyter-widgets/base",
      "model_module_version": "1.2.0",
      "model_name": "LayoutModel",
      "state": {}
     },
     "26ac36d1aca8492c8c122c250cdaef39": {
      "model_module": "@jupyter-widgets/base",
      "model_module_version": "1.2.0",
      "model_name": "LayoutModel",
      "state": {}
     },
     "289658fda42547caa8f582c40f2fc44a": {
      "model_module": "@jupyter-widgets/base",
      "model_module_version": "1.2.0",
      "model_name": "LayoutModel",
      "state": {}
     },
     "474efb69e8fc45e7990b9f9a5dfa614e": {
      "model_module": "@jupyter-widgets/output",
      "model_module_version": "1.0.0",
      "model_name": "OutputModel",
      "state": {
       "layout": "IPY_MODEL_f06de5997c7b471f9dc0ad6d3f207c5a",
       "outputs": [
        {
         "data": {
          "text/html": "<pre style=\"white-space:pre;overflow-x:auto;line-height:normal;font-family:Menlo,'DejaVu Sans Mono',consolas,'Courier New',monospace\">  <span style=\"color: #800000; text-decoration-color: #800000\">Two passes                                   </span> <span style=\"color: #729c1f; text-decoration-color: #729c1f\">━━━━━━━━━━━━━━━━━━━━━━━━━━━━</span> <span style=\"color: #800080; text-decoration-color: #800080\">100%</span> <span style=\"color: #808000; text-decoration-color: #808000\">00.05s   </span>  \n├──   <span style=\"color: #800000; text-decoration-color: #800000\">sum                                      </span> <span style=\"color: #729c1f; text-decoration-color: #729c1f\">━━━━━━━━━━━━━━━━━━━━━━━━━━━━</span> <span style=\"color: #800080; text-decoration-color: #800080\">100%</span> <span style=\"color: #808000; text-decoration-color: #808000\">00.02s   </span>  \n│   └──   <span style=\"color: #800000; text-decoration-color: #800000\">vaex.agg.sum('tip_amount')           </span> <span style=\"color: #729c1f; text-decoration-color: #729c1f\">━━━━━━━━━━━━━━━━━━━━━━━━━━━━</span> <span style=\"color: #800080; text-decoration-color: #800080\">100%</span> <span style=\"color: #808000; text-decoration-color: #808000\">00.02s[1]</span>  \n└──   <span style=\"color: #800000; text-decoration-color: #800000\">sum                                      </span> <span style=\"color: #729c1f; text-decoration-color: #729c1f\">━━━━━━━━━━━━━━━━━━━━━━━━━━━━</span> <span style=\"color: #800080; text-decoration-color: #800080\">100%</span> <span style=\"color: #808000; text-decoration-color: #808000\">00.02s   </span>  \n    └──   <span style=\"color: #800000; text-decoration-color: #800000\">vaex.agg.sum('passenger_count')      </span> <span style=\"color: #729c1f; text-decoration-color: #729c1f\">━━━━━━━━━━━━━━━━━━━━━━━━━━━━</span> <span style=\"color: #800080; text-decoration-color: #800080\">100%</span> <span style=\"color: #808000; text-decoration-color: #808000\">00.02s[2]</span>  \n</pre>\n",
          "text/plain": "  \u001b[31mTwo passes                                   \u001b[0m \u001b[38;2;114;156;31m━━━━━━━━━━━━━━━━━━━━━━━━━━━━\u001b[0m \u001b[35m100%\u001b[0m \u001b[33m00.05s   \u001b[0m  \n├──   \u001b[31msum                                      \u001b[0m \u001b[38;2;114;156;31m━━━━━━━━━━━━━━━━━━━━━━━━━━━━\u001b[0m \u001b[35m100%\u001b[0m \u001b[33m00.02s   \u001b[0m  \n│   └──   \u001b[31mvaex.agg.sum('tip_amount')           \u001b[0m \u001b[38;2;114;156;31m━━━━━━━━━━━━━━━━━━━━━━━━━━━━\u001b[0m \u001b[35m100%\u001b[0m \u001b[33m00.02s[1]\u001b[0m  \n└──   \u001b[31msum                                      \u001b[0m \u001b[38;2;114;156;31m━━━━━━━━━━━━━━━━━━━━━━━━━━━━\u001b[0m \u001b[35m100%\u001b[0m \u001b[33m00.02s   \u001b[0m  \n    └──   \u001b[31mvaex.agg.sum('passenger_count')      \u001b[0m \u001b[38;2;114;156;31m━━━━━━━━━━━━━━━━━━━━━━━━━━━━\u001b[0m \u001b[35m100%\u001b[0m \u001b[33m00.02s[2]\u001b[0m  \n"
         },
         "metadata": {},
         "output_type": "display_data"
        }
       ]
      }
     },
     "4b6969b5b73243928600f4232fd12742": {
      "model_module": "@jupyter-widgets/output",
      "model_module_version": "1.0.0",
      "model_name": "OutputModel",
      "state": {
       "layout": "IPY_MODEL_fe929356bcee46bdbc5d760e9b7e0e13",
       "outputs": [
        {
         "data": {
          "text/html": "<pre style=\"white-space:pre;overflow-x:auto;line-height:normal;font-family:Menlo,'DejaVu Sans Mono',consolas,'Courier New',monospace\">  <span style=\"color: #800000; text-decoration-color: #800000\">Single pass using delay + using delayed      </span> <span style=\"color: #729c1f; text-decoration-color: #729c1f\">━━━━━━━━━━━━━━━━━━━━━━━━━━━━</span> <span style=\"color: #800080; text-decoration-color: #800080\">100%</span> <span style=\"color: #808000; text-decoration-color: #808000\">00.04s   </span>  \n├──   <span style=\"color: #800000; text-decoration-color: #800000\">sum                                      </span> <span style=\"color: #729c1f; text-decoration-color: #729c1f\">━━━━━━━━━━━━━━━━━━━━━━━━━━━━</span> <span style=\"color: #800080; text-decoration-color: #800080\">100%</span> <span style=\"color: #808000; text-decoration-color: #808000\">00.04s   </span>  \n│   └──   <span style=\"color: #800000; text-decoration-color: #800000\">vaex.agg.sum('tip_amount')           </span> <span style=\"color: #729c1f; text-decoration-color: #729c1f\">━━━━━━━━━━━━━━━━━━━━━━━━━━━━</span> <span style=\"color: #800080; text-decoration-color: #800080\">100%</span> <span style=\"color: #808000; text-decoration-color: #808000\">00.03s[1]</span>  \n└──   <span style=\"color: #800000; text-decoration-color: #800000\">sum                                      </span> <span style=\"color: #729c1f; text-decoration-color: #729c1f\">━━━━━━━━━━━━━━━━━━━━━━━━━━━━</span> <span style=\"color: #800080; text-decoration-color: #800080\">100%</span> <span style=\"color: #808000; text-decoration-color: #808000\">00.03s   </span>  \n    └──   <span style=\"color: #800000; text-decoration-color: #800000\">vaex.agg.sum('passenger_count')      </span> <span style=\"color: #729c1f; text-decoration-color: #729c1f\">━━━━━━━━━━━━━━━━━━━━━━━━━━━━</span> <span style=\"color: #800080; text-decoration-color: #800080\">100%</span> <span style=\"color: #808000; text-decoration-color: #808000\">00.03s[1]</span>  \n</pre>\n",
          "text/plain": "  \u001b[31mSingle pass using delay + using delayed      \u001b[0m \u001b[38;2;114;156;31m━━━━━━━━━━━━━━━━━━━━━━━━━━━━\u001b[0m \u001b[35m100%\u001b[0m \u001b[33m00.04s   \u001b[0m  \n├──   \u001b[31msum                                      \u001b[0m \u001b[38;2;114;156;31m━━━━━━━━━━━━━━━━━━━━━━━━━━━━\u001b[0m \u001b[35m100%\u001b[0m \u001b[33m00.04s   \u001b[0m  \n│   └──   \u001b[31mvaex.agg.sum('tip_amount')           \u001b[0m \u001b[38;2;114;156;31m━━━━━━━━━━━━━━━━━━━━━━━━━━━━\u001b[0m \u001b[35m100%\u001b[0m \u001b[33m00.03s[1]\u001b[0m  \n└──   \u001b[31msum                                      \u001b[0m \u001b[38;2;114;156;31m━━━━━━━━━━━━━━━━━━━━━━━━━━━━\u001b[0m \u001b[35m100%\u001b[0m \u001b[33m00.03s   \u001b[0m  \n    └──   \u001b[31mvaex.agg.sum('passenger_count')      \u001b[0m \u001b[38;2;114;156;31m━━━━━━━━━━━━━━━━━━━━━━━━━━━━\u001b[0m \u001b[35m100%\u001b[0m \u001b[33m00.03s[1]\u001b[0m  \n"
         },
         "metadata": {},
         "output_type": "display_data"
        }
       ]
      }
     },
     "4d92bd99a8254e5cb47d1e981d0cbc9c": {
      "model_module": "@jupyter-widgets/output",
      "model_module_version": "1.0.0",
      "model_name": "OutputModel",
      "state": {
       "layout": "IPY_MODEL_986eacb83ceb4db0b91a3c89c54458c0",
       "outputs": [
        {
         "data": {
          "text/html": "<pre style=\"white-space:pre;overflow-x:auto;line-height:normal;font-family:Menlo,'DejaVu Sans Mono',consolas,'Courier New',monospace\">  <span style=\"color: #800000; text-decoration-color: #800000\">My Vaex computations                         </span> <span style=\"color: #729c1f; text-decoration-color: #729c1f\">━━━━━━━━━━━━━━━━━━━━━━━━━━━━</span> <span style=\"color: #800080; text-decoration-color: #800080\">100%</span> <span style=\"color: #808000; text-decoration-color: #808000\">01.98s   </span>  \n├──   <span style=\"color: #800000; text-decoration-color: #800000\">groupby                                  </span> <span style=\"color: #729c1f; text-decoration-color: #729c1f\">━━━━━━━━━━━━━━━━━━━━━━━━━━━━</span> <span style=\"color: #800080; text-decoration-color: #800080\">100%</span> <span style=\"color: #808000; text-decoration-color: #808000\">00.52s   </span>  \n│   ├──   <span style=\"color: #800000; text-decoration-color: #800000\">groupers                             </span> <span style=\"color: #729c1f; text-decoration-color: #729c1f\">━━━━━━━━━━━━━━━━━━━━━━━━━━━━</span> <span style=\"color: #800080; text-decoration-color: #800080\">100%</span> <span style=\"color: #808000; text-decoration-color: #808000\">00.44s   </span>  \n│   │   └──   <span style=\"color: #800000; text-decoration-color: #800000\">grouper: 'passenger_count'       </span> <span style=\"color: #729c1f; text-decoration-color: #729c1f\">━━━━━━━━━━━━━━━━━━━━━━━━━━━━</span> <span style=\"color: #800080; text-decoration-color: #800080\">100%</span> <span style=\"color: #808000; text-decoration-color: #808000\">00.44s   </span>  \n│   │       └──   <span style=\"color: #800000; text-decoration-color: #800000\">set for passenger_count      </span> <span style=\"color: #729c1f; text-decoration-color: #729c1f\">━━━━━━━━━━━━━━━━━━━━━━━━━━━━</span> <span style=\"color: #800080; text-decoration-color: #800080\">100%</span> <span style=\"color: #808000; text-decoration-color: #808000\">00.44s[1]</span>  \n│   └──   <span style=\"color: #800000; text-decoration-color: #800000\">aggregators                          </span> <span style=\"color: #729c1f; text-decoration-color: #729c1f\">━━━━━━━━━━━━━━━━━━━━━━━━━━━━</span> <span style=\"color: #800080; text-decoration-color: #800080\">100%</span> <span style=\"color: #808000; text-decoration-color: #808000\">00.07s   </span>  \n│       └──   <span style=\"color: #800000; text-decoration-color: #800000\">vaex.agg.count('*')              </span> <span style=\"color: #729c1f; text-decoration-color: #729c1f\">━━━━━━━━━━━━━━━━━━━━━━━━━━━━</span> <span style=\"color: #800080; text-decoration-color: #800080\">100%</span> <span style=\"color: #808000; text-decoration-color: #808000\">00.07s[2]</span>  \n├──   <span style=\"color: #800000; text-decoration-color: #800000\">groupby                                  </span> <span style=\"color: #729c1f; text-decoration-color: #729c1f\">━━━━━━━━━━━━━━━━━━━━━━━━━━━━</span> <span style=\"color: #800080; text-decoration-color: #800080\">100%</span> <span style=\"color: #808000; text-decoration-color: #808000\">01.39s   </span>  \n│   ├──   <span style=\"color: #800000; text-decoration-color: #800000\">groupers                             </span> <span style=\"color: #729c1f; text-decoration-color: #729c1f\">━━━━━━━━━━━━━━━━━━━━━━━━━━━━</span> <span style=\"color: #800080; text-decoration-color: #800080\">100%</span> <span style=\"color: #808000; text-decoration-color: #808000\">01.18s   </span>  \n│   │   └──   <span style=\"color: #800000; text-decoration-color: #800000\">grouper: 'vendor_id'             </span> <span style=\"color: #729c1f; text-decoration-color: #729c1f\">━━━━━━━━━━━━━━━━━━━━━━━━━━━━</span> <span style=\"color: #800080; text-decoration-color: #800080\">100%</span> <span style=\"color: #808000; text-decoration-color: #808000\">01.18s   </span>  \n│   │       └──   <span style=\"color: #800000; text-decoration-color: #800000\">set for vendor_id            </span> <span style=\"color: #729c1f; text-decoration-color: #729c1f\">━━━━━━━━━━━━━━━━━━━━━━━━━━━━</span> <span style=\"color: #800080; text-decoration-color: #800080\">100%</span> <span style=\"color: #808000; text-decoration-color: #808000\">01.18s[3]</span>  \n│   └──   <span style=\"color: #800000; text-decoration-color: #800000\">aggregators                          </span> <span style=\"color: #729c1f; text-decoration-color: #729c1f\">━━━━━━━━━━━━━━━━━━━━━━━━━━━━</span> <span style=\"color: #800080; text-decoration-color: #800080\">100%</span> <span style=\"color: #808000; text-decoration-color: #808000\">00.20s   </span>  \n│       ├──   <span style=\"color: #800000; text-decoration-color: #800000\">vaex.agg.sum('tip_amount')       </span> <span style=\"color: #729c1f; text-decoration-color: #729c1f\">━━━━━━━━━━━━━━━━━━━━━━━━━━━━</span> <span style=\"color: #800080; text-decoration-color: #800080\">100%</span> <span style=\"color: #808000; text-decoration-color: #808000\">00.20s[4]</span>  \n│       └──   <span style=\"color: #800000; text-decoration-color: #800000\">vaex.agg.count('*')              </span> <span style=\"color: #729c1f; text-decoration-color: #729c1f\">━━━━━━━━━━━━━━━━━━━━━━━━━━━━</span> <span style=\"color: #800080; text-decoration-color: #800080\">100%</span> <span style=\"color: #808000; text-decoration-color: #808000\">00.20s[4]</span>  \n└──   <span style=\"color: #800000; text-decoration-color: #800000\">mean                                     </span> <span style=\"color: #729c1f; text-decoration-color: #729c1f\">━━━━━━━━━━━━━━━━━━━━━━━━━━━━</span> <span style=\"color: #800080; text-decoration-color: #800080\">100%</span> <span style=\"color: #808000; text-decoration-color: #808000\">00.03s   </span>  \n    └──   <span style=\"color: #800000; text-decoration-color: #800000\">vaex.agg.mean('tip_amount')          </span> <span style=\"color: #729c1f; text-decoration-color: #729c1f\">━━━━━━━━━━━━━━━━━━━━━━━━━━━━</span> <span style=\"color: #800080; text-decoration-color: #800080\">100%</span> <span style=\"color: #808000; text-decoration-color: #808000\">00.03s   </span>  \n        ├──   <span style=\"color: #800000; text-decoration-color: #800000\">vaex.agg.sum('tip_amount')       </span> <span style=\"color: #729c1f; text-decoration-color: #729c1f\">━━━━━━━━━━━━━━━━━━━━━━━━━━━━</span> <span style=\"color: #800080; text-decoration-color: #800080\">100%</span> <span style=\"color: #808000; text-decoration-color: #808000\">00.03s[5]</span>  \n        └──   <span style=\"color: #800000; text-decoration-color: #800000\">vaex.agg.count('tip_amount')     </span> <span style=\"color: #729c1f; text-decoration-color: #729c1f\">━━━━━━━━━━━━━━━━━━━━━━━━━━━━</span> <span style=\"color: #800080; text-decoration-color: #800080\">100%</span> <span style=\"color: #808000; text-decoration-color: #808000\">00.03s[5]</span>  \n</pre>\n",
          "text/plain": "  \u001b[31mMy Vaex computations                         \u001b[0m \u001b[38;2;114;156;31m━━━━━━━━━━━━━━━━━━━━━━━━━━━━\u001b[0m \u001b[35m100%\u001b[0m \u001b[33m01.98s   \u001b[0m  \n├──   \u001b[31mgroupby                                  \u001b[0m \u001b[38;2;114;156;31m━━━━━━━━━━━━━━━━━━━━━━━━━━━━\u001b[0m \u001b[35m100%\u001b[0m \u001b[33m00.52s   \u001b[0m  \n│   ├──   \u001b[31mgroupers                             \u001b[0m \u001b[38;2;114;156;31m━━━━━━━━━━━━━━━━━━━━━━━━━━━━\u001b[0m \u001b[35m100%\u001b[0m \u001b[33m00.44s   \u001b[0m  \n│   │   └──   \u001b[31mgrouper: 'passenger_count'       \u001b[0m \u001b[38;2;114;156;31m━━━━━━━━━━━━━━━━━━━━━━━━━━━━\u001b[0m \u001b[35m100%\u001b[0m \u001b[33m00.44s   \u001b[0m  \n│   │       └──   \u001b[31mset for passenger_count      \u001b[0m \u001b[38;2;114;156;31m━━━━━━━━━━━━━━━━━━━━━━━━━━━━\u001b[0m \u001b[35m100%\u001b[0m \u001b[33m00.44s[1]\u001b[0m  \n│   └──   \u001b[31maggregators                          \u001b[0m \u001b[38;2;114;156;31m━━━━━━━━━━━━━━━━━━━━━━━━━━━━\u001b[0m \u001b[35m100%\u001b[0m \u001b[33m00.07s   \u001b[0m  \n│       └──   \u001b[31mvaex.agg.count('*')              \u001b[0m \u001b[38;2;114;156;31m━━━━━━━━━━━━━━━━━━━━━━━━━━━━\u001b[0m \u001b[35m100%\u001b[0m \u001b[33m00.07s[2]\u001b[0m  \n├──   \u001b[31mgroupby                                  \u001b[0m \u001b[38;2;114;156;31m━━━━━━━━━━━━━━━━━━━━━━━━━━━━\u001b[0m \u001b[35m100%\u001b[0m \u001b[33m01.39s   \u001b[0m  \n│   ├──   \u001b[31mgroupers                             \u001b[0m \u001b[38;2;114;156;31m━━━━━━━━━━━━━━━━━━━━━━━━━━━━\u001b[0m \u001b[35m100%\u001b[0m \u001b[33m01.18s   \u001b[0m  \n│   │   └──   \u001b[31mgrouper: 'vendor_id'             \u001b[0m \u001b[38;2;114;156;31m━━━━━━━━━━━━━━━━━━━━━━━━━━━━\u001b[0m \u001b[35m100%\u001b[0m \u001b[33m01.18s   \u001b[0m  \n│   │       └──   \u001b[31mset for vendor_id            \u001b[0m \u001b[38;2;114;156;31m━━━━━━━━━━━━━━━━━━━━━━━━━━━━\u001b[0m \u001b[35m100%\u001b[0m \u001b[33m01.18s[3]\u001b[0m  \n│   └──   \u001b[31maggregators                          \u001b[0m \u001b[38;2;114;156;31m━━━━━━━━━━━━━━━━━━━━━━━━━━━━\u001b[0m \u001b[35m100%\u001b[0m \u001b[33m00.20s   \u001b[0m  \n│       ├──   \u001b[31mvaex.agg.sum('tip_amount')       \u001b[0m \u001b[38;2;114;156;31m━━━━━━━━━━━━━━━━━━━━━━━━━━━━\u001b[0m \u001b[35m100%\u001b[0m \u001b[33m00.20s[4]\u001b[0m  \n│       └──   \u001b[31mvaex.agg.count('*')              \u001b[0m \u001b[38;2;114;156;31m━━━━━━━━━━━━━━━━━━━━━━━━━━━━\u001b[0m \u001b[35m100%\u001b[0m \u001b[33m00.20s[4]\u001b[0m  \n└──   \u001b[31mmean                                     \u001b[0m \u001b[38;2;114;156;31m━━━━━━━━━━━━━━━━━━━━━━━━━━━━\u001b[0m \u001b[35m100%\u001b[0m \u001b[33m00.03s   \u001b[0m  \n    └──   \u001b[31mvaex.agg.mean('tip_amount')          \u001b[0m \u001b[38;2;114;156;31m━━━━━━━━━━━━━━━━━━━━━━━━━━━━\u001b[0m \u001b[35m100%\u001b[0m \u001b[33m00.03s   \u001b[0m  \n        ├──   \u001b[31mvaex.agg.sum('tip_amount')       \u001b[0m \u001b[38;2;114;156;31m━━━━━━━━━━━━━━━━━━━━━━━━━━━━\u001b[0m \u001b[35m100%\u001b[0m \u001b[33m00.03s[5]\u001b[0m  \n        └──   \u001b[31mvaex.agg.count('tip_amount')     \u001b[0m \u001b[38;2;114;156;31m━━━━━━━━━━━━━━━━━━━━━━━━━━━━\u001b[0m \u001b[35m100%\u001b[0m \u001b[33m00.03s[5]\u001b[0m  \n"
         },
         "metadata": {},
         "output_type": "display_data"
        }
       ]
      }
     },
     "8e75b3193beb456e90b54ce1089d1098": {
      "model_module": "@jupyter-widgets/base",
      "model_module_version": "1.2.0",
      "model_name": "LayoutModel",
      "state": {}
     },
     "986eacb83ceb4db0b91a3c89c54458c0": {
      "model_module": "@jupyter-widgets/base",
      "model_module_version": "1.2.0",
      "model_name": "LayoutModel",
      "state": {}
     },
     "a62ca50086524fd2abb3f29104783749": {
      "model_module": "@jupyter-widgets/base",
      "model_module_version": "1.2.0",
      "model_name": "LayoutModel",
      "state": {}
     },
     "aac0ee28c8d14c7fafd82d856d8da5d4": {
      "model_module": "@jupyter-widgets/output",
      "model_module_version": "1.0.0",
      "model_name": "OutputModel",
      "state": {
       "layout": "IPY_MODEL_15199571984c4fb2afc5eada66457a65",
       "outputs": [
        {
         "data": {
          "text/html": "<pre style=\"white-space:pre;overflow-x:auto;line-height:normal;font-family:Menlo,'DejaVu Sans Mono',consolas,'Courier New',monospace\">  <span style=\"color: #800000; text-decoration-color: #800000\">Single pass using delay + using delayed and await</span> <span style=\"color: #729c1f; text-decoration-color: #729c1f\">━━━━━━━━━━━━━━━━━━━━━━━━</span> <span style=\"color: #800080; text-decoration-color: #800080\">100%</span> <span style=\"color: #808000; text-decoration-color: #808000\">00.04s   </span>  \n├──   <span style=\"color: #800000; text-decoration-color: #800000\">sum                                      </span> <span style=\"color: #729c1f; text-decoration-color: #729c1f\">━━━━━━━━━━━━━━━━━━━━━━━━━━━━</span> <span style=\"color: #800080; text-decoration-color: #800080\">100%</span> <span style=\"color: #808000; text-decoration-color: #808000\">00.04s   </span>  \n│   └──   <span style=\"color: #800000; text-decoration-color: #800000\">vaex.agg.sum('tip_amount')           </span> <span style=\"color: #729c1f; text-decoration-color: #729c1f\">━━━━━━━━━━━━━━━━━━━━━━━━━━━━</span> <span style=\"color: #800080; text-decoration-color: #800080\">100%</span> <span style=\"color: #808000; text-decoration-color: #808000\">00.04s[1]</span>  \n└──   <span style=\"color: #800000; text-decoration-color: #800000\">sum                                      </span> <span style=\"color: #729c1f; text-decoration-color: #729c1f\">━━━━━━━━━━━━━━━━━━━━━━━━━━━━</span> <span style=\"color: #800080; text-decoration-color: #800080\">100%</span> <span style=\"color: #808000; text-decoration-color: #808000\">00.04s   </span>  \n    └──   <span style=\"color: #800000; text-decoration-color: #800000\">vaex.agg.sum('passenger_count')      </span> <span style=\"color: #729c1f; text-decoration-color: #729c1f\">━━━━━━━━━━━━━━━━━━━━━━━━━━━━</span> <span style=\"color: #800080; text-decoration-color: #800080\">100%</span> <span style=\"color: #808000; text-decoration-color: #808000\">00.04s[1]</span>  \n</pre>\n",
          "text/plain": "  \u001b[31mSingle pass using delay + using delayed and await\u001b[0m \u001b[38;2;114;156;31m━━━━━━━━━━━━━━━━━━━━━━━━\u001b[0m \u001b[35m100%\u001b[0m \u001b[33m00.04s   \u001b[0m  \n├──   \u001b[31msum                                      \u001b[0m \u001b[38;2;114;156;31m━━━━━━━━━━━━━━━━━━━━━━━━━━━━\u001b[0m \u001b[35m100%\u001b[0m \u001b[33m00.04s   \u001b[0m  \n│   └──   \u001b[31mvaex.agg.sum('tip_amount')           \u001b[0m \u001b[38;2;114;156;31m━━━━━━━━━━━━━━━━━━━━━━━━━━━━\u001b[0m \u001b[35m100%\u001b[0m \u001b[33m00.04s[1]\u001b[0m  \n└──   \u001b[31msum                                      \u001b[0m \u001b[38;2;114;156;31m━━━━━━━━━━━━━━━━━━━━━━━━━━━━\u001b[0m \u001b[35m100%\u001b[0m \u001b[33m00.04s   \u001b[0m  \n    └──   \u001b[31mvaex.agg.sum('passenger_count')      \u001b[0m \u001b[38;2;114;156;31m━━━━━━━━━━━━━━━━━━━━━━━━━━━━\u001b[0m \u001b[35m100%\u001b[0m \u001b[33m00.04s[1]\u001b[0m  \n"
         },
         "metadata": {},
         "output_type": "display_data"
        }
       ]
      }
     },
     "b44edbf2476f427fbb1eb13d37d909d7": {
      "model_module": "@jupyter-widgets/output",
      "model_module_version": "1.0.0",
      "model_name": "OutputModel",
      "state": {
       "layout": "IPY_MODEL_a62ca50086524fd2abb3f29104783749",
       "outputs": [
        {
         "data": {
          "text/html": "<pre style=\"white-space:pre;overflow-x:auto;line-height:normal;font-family:Menlo,'DejaVu Sans Mono',consolas,'Courier New',monospace\">  <span style=\"color: #800000; text-decoration-color: #800000\">Single pass using delay                      </span> <span style=\"color: #729c1f; text-decoration-color: #729c1f\">━━━━━━━━━━━━━━━━━━━━━━━━━━━━</span> <span style=\"color: #800080; text-decoration-color: #800080\">100%</span> <span style=\"color: #808000; text-decoration-color: #808000\">00.03s   </span>  \n├──   <span style=\"color: #800000; text-decoration-color: #800000\">sum                                      </span> <span style=\"color: #729c1f; text-decoration-color: #729c1f\">━━━━━━━━━━━━━━━━━━━━━━━━━━━━</span> <span style=\"color: #800080; text-decoration-color: #800080\">100%</span> <span style=\"color: #808000; text-decoration-color: #808000\">00.03s   </span>  \n│   └──   <span style=\"color: #800000; text-decoration-color: #800000\">vaex.agg.sum('tip_amount')           </span> <span style=\"color: #729c1f; text-decoration-color: #729c1f\">━━━━━━━━━━━━━━━━━━━━━━━━━━━━</span> <span style=\"color: #800080; text-decoration-color: #800080\">100%</span> <span style=\"color: #808000; text-decoration-color: #808000\">00.03s[1]</span>  \n└──   <span style=\"color: #800000; text-decoration-color: #800000\">sum                                      </span> <span style=\"color: #729c1f; text-decoration-color: #729c1f\">━━━━━━━━━━━━━━━━━━━━━━━━━━━━</span> <span style=\"color: #800080; text-decoration-color: #800080\">100%</span> <span style=\"color: #808000; text-decoration-color: #808000\">00.03s   </span>  \n    └──   <span style=\"color: #800000; text-decoration-color: #800000\">vaex.agg.sum('passenger_count')      </span> <span style=\"color: #729c1f; text-decoration-color: #729c1f\">━━━━━━━━━━━━━━━━━━━━━━━━━━━━</span> <span style=\"color: #800080; text-decoration-color: #800080\">100%</span> <span style=\"color: #808000; text-decoration-color: #808000\">00.03s[1]</span>  \n</pre>\n",
          "text/plain": "  \u001b[31mSingle pass using delay                      \u001b[0m \u001b[38;2;114;156;31m━━━━━━━━━━━━━━━━━━━━━━━━━━━━\u001b[0m \u001b[35m100%\u001b[0m \u001b[33m00.03s   \u001b[0m  \n├──   \u001b[31msum                                      \u001b[0m \u001b[38;2;114;156;31m━━━━━━━━━━━━━━━━━━━━━━━━━━━━\u001b[0m \u001b[35m100%\u001b[0m \u001b[33m00.03s   \u001b[0m  \n│   └──   \u001b[31mvaex.agg.sum('tip_amount')           \u001b[0m \u001b[38;2;114;156;31m━━━━━━━━━━━━━━━━━━━━━━━━━━━━\u001b[0m \u001b[35m100%\u001b[0m \u001b[33m00.03s[1]\u001b[0m  \n└──   \u001b[31msum                                      \u001b[0m \u001b[38;2;114;156;31m━━━━━━━━━━━━━━━━━━━━━━━━━━━━\u001b[0m \u001b[35m100%\u001b[0m \u001b[33m00.03s   \u001b[0m  \n    └──   \u001b[31mvaex.agg.sum('passenger_count')      \u001b[0m \u001b[38;2;114;156;31m━━━━━━━━━━━━━━━━━━━━━━━━━━━━\u001b[0m \u001b[35m100%\u001b[0m \u001b[33m00.03s[1]\u001b[0m  \n"
         },
         "metadata": {},
         "output_type": "display_data"
        }
       ]
      }
     },
     "cd4bee8f9b214c0eb2360567bbc4eb06": {
      "model_module": "@jupyter-widgets/output",
      "model_module_version": "1.0.0",
      "model_name": "OutputModel",
      "state": {
       "layout": "IPY_MODEL_8e75b3193beb456e90b54ce1089d1098",
       "outputs": [
        {
         "data": {
          "text/html": "<pre style=\"white-space:pre;overflow-x:auto;line-height:normal;font-family:Menlo,'DejaVu Sans Mono',consolas,'Courier New',monospace\">  <span style=\"color: #800000; text-decoration-color: #800000\">My Vaex computations                         </span> <span style=\"color: #729c1f; text-decoration-color: #729c1f\">━━━━━━━━━━━━━━━━━━━━━━━━━━━━</span> <span style=\"color: #800080; text-decoration-color: #800080\">100%</span> <span style=\"color: #808000; text-decoration-color: #808000\">01.40s   </span>  \n├──   <span style=\"color: #800000; text-decoration-color: #800000\">groupby                                  </span> <span style=\"color: #729c1f; text-decoration-color: #729c1f\">━━━━━━━━━━━━━━━━━━━━━━━━━━━━</span> <span style=\"color: #800080; text-decoration-color: #800080\">100%</span> <span style=\"color: #808000; text-decoration-color: #808000\">01.39s   </span>  \n│   ├──   <span style=\"color: #800000; text-decoration-color: #800000\">groupers                             </span> <span style=\"color: #729c1f; text-decoration-color: #729c1f\">━━━━━━━━━━━━━━━━━━━━━━━━━━━━</span> <span style=\"color: #800080; text-decoration-color: #800080\">100%</span> <span style=\"color: #808000; text-decoration-color: #808000\">01.21s   </span>  \n│   │   └──   <span style=\"color: #800000; text-decoration-color: #800000\">grouper: 'passenger_count'       </span> <span style=\"color: #729c1f; text-decoration-color: #729c1f\">━━━━━━━━━━━━━━━━━━━━━━━━━━━━</span> <span style=\"color: #800080; text-decoration-color: #800080\">100%</span> <span style=\"color: #808000; text-decoration-color: #808000\">01.21s   </span>  \n│   │       └──   <span style=\"color: #800000; text-decoration-color: #800000\">set for passenger_count      </span> <span style=\"color: #729c1f; text-decoration-color: #729c1f\">━━━━━━━━━━━━━━━━━━━━━━━━━━━━</span> <span style=\"color: #800080; text-decoration-color: #800080\">100%</span> <span style=\"color: #808000; text-decoration-color: #808000\">01.20s[1]</span>  \n│   └──   <span style=\"color: #800000; text-decoration-color: #800000\">aggregators                          </span> <span style=\"color: #729c1f; text-decoration-color: #729c1f\">━━━━━━━━━━━━━━━━━━━━━━━━━━━━</span> <span style=\"color: #800080; text-decoration-color: #800080\">100%</span> <span style=\"color: #808000; text-decoration-color: #808000\">00.18s   </span>  \n│       └──   <span style=\"color: #800000; text-decoration-color: #800000\">vaex.agg.count('*')              </span> <span style=\"color: #729c1f; text-decoration-color: #729c1f\">━━━━━━━━━━━━━━━━━━━━━━━━━━━━</span> <span style=\"color: #800080; text-decoration-color: #800080\">100%</span> <span style=\"color: #808000; text-decoration-color: #808000\">00.17s[2]</span>  \n├──   <span style=\"color: #800000; text-decoration-color: #800000\">groupby                                  </span> <span style=\"color: #729c1f; text-decoration-color: #729c1f\">━━━━━━━━━━━━━━━━━━━━━━━━━━━━</span> <span style=\"color: #800080; text-decoration-color: #800080\">100%</span> <span style=\"color: #808000; text-decoration-color: #808000\">01.39s   </span>  \n│   ├──   <span style=\"color: #800000; text-decoration-color: #800000\">groupers                             </span> <span style=\"color: #729c1f; text-decoration-color: #729c1f\">━━━━━━━━━━━━━━━━━━━━━━━━━━━━</span> <span style=\"color: #800080; text-decoration-color: #800080\">100%</span> <span style=\"color: #808000; text-decoration-color: #808000\">01.21s   </span>  \n│   │   └──   <span style=\"color: #800000; text-decoration-color: #800000\">grouper: 'vendor_id'             </span> <span style=\"color: #729c1f; text-decoration-color: #729c1f\">━━━━━━━━━━━━━━━━━━━━━━━━━━━━</span> <span style=\"color: #800080; text-decoration-color: #800080\">100%</span> <span style=\"color: #808000; text-decoration-color: #808000\">01.21s   </span>  \n│   │       └──   <span style=\"color: #800000; text-decoration-color: #800000\">set for vendor_id            </span> <span style=\"color: #729c1f; text-decoration-color: #729c1f\">━━━━━━━━━━━━━━━━━━━━━━━━━━━━</span> <span style=\"color: #800080; text-decoration-color: #800080\">100%</span> <span style=\"color: #808000; text-decoration-color: #808000\">01.20s[1]</span>  \n│   └──   <span style=\"color: #800000; text-decoration-color: #800000\">aggregators                          </span> <span style=\"color: #729c1f; text-decoration-color: #729c1f\">━━━━━━━━━━━━━━━━━━━━━━━━━━━━</span> <span style=\"color: #800080; text-decoration-color: #800080\">100%</span> <span style=\"color: #808000; text-decoration-color: #808000\">00.18s   </span>  \n│       ├──   <span style=\"color: #800000; text-decoration-color: #800000\">vaex.agg.sum('tip_amount')       </span> <span style=\"color: #729c1f; text-decoration-color: #729c1f\">━━━━━━━━━━━━━━━━━━━━━━━━━━━━</span> <span style=\"color: #800080; text-decoration-color: #800080\">100%</span> <span style=\"color: #808000; text-decoration-color: #808000\">00.17s[2]</span>  \n│       └──   <span style=\"color: #800000; text-decoration-color: #800000\">vaex.agg.count('*')              </span> <span style=\"color: #729c1f; text-decoration-color: #729c1f\">━━━━━━━━━━━━━━━━━━━━━━━━━━━━</span> <span style=\"color: #800080; text-decoration-color: #800080\">100%</span> <span style=\"color: #808000; text-decoration-color: #808000\">00.17s[2]</span>  \n└──   <span style=\"color: #800000; text-decoration-color: #800000\">mean                                     </span> <span style=\"color: #729c1f; text-decoration-color: #729c1f\">━━━━━━━━━━━━━━━━━━━━━━━━━━━━</span> <span style=\"color: #800080; text-decoration-color: #800080\">100%</span> <span style=\"color: #808000; text-decoration-color: #808000\">01.21s   </span>  \n    └──   <span style=\"color: #800000; text-decoration-color: #800000\">vaex.agg.mean('tip_amount')          </span> <span style=\"color: #729c1f; text-decoration-color: #729c1f\">━━━━━━━━━━━━━━━━━━━━━━━━━━━━</span> <span style=\"color: #800080; text-decoration-color: #800080\">100%</span> <span style=\"color: #808000; text-decoration-color: #808000\">01.20s   </span>  \n        ├──   <span style=\"color: #800000; text-decoration-color: #800000\">vaex.agg.sum('tip_amount')       </span> <span style=\"color: #729c1f; text-decoration-color: #729c1f\">━━━━━━━━━━━━━━━━━━━━━━━━━━━━</span> <span style=\"color: #800080; text-decoration-color: #800080\">100%</span> <span style=\"color: #808000; text-decoration-color: #808000\">01.20s[1]</span>  \n        └──   <span style=\"color: #800000; text-decoration-color: #800000\">vaex.agg.count('tip_amount')     </span> <span style=\"color: #729c1f; text-decoration-color: #729c1f\">━━━━━━━━━━━━━━━━━━━━━━━━━━━━</span> <span style=\"color: #800080; text-decoration-color: #800080\">100%</span> <span style=\"color: #808000; text-decoration-color: #808000\">01.20s[1]</span>  \n</pre>\n",
          "text/plain": "  \u001b[31mMy Vaex computations                         \u001b[0m \u001b[38;2;114;156;31m━━━━━━━━━━━━━━━━━━━━━━━━━━━━\u001b[0m \u001b[35m100%\u001b[0m \u001b[33m01.40s   \u001b[0m  \n├──   \u001b[31mgroupby                                  \u001b[0m \u001b[38;2;114;156;31m━━━━━━━━━━━━━━━━━━━━━━━━━━━━\u001b[0m \u001b[35m100%\u001b[0m \u001b[33m01.39s   \u001b[0m  \n│   ├──   \u001b[31mgroupers                             \u001b[0m \u001b[38;2;114;156;31m━━━━━━━━━━━━━━━━━━━━━━━━━━━━\u001b[0m \u001b[35m100%\u001b[0m \u001b[33m01.21s   \u001b[0m  \n│   │   └──   \u001b[31mgrouper: 'passenger_count'       \u001b[0m \u001b[38;2;114;156;31m━━━━━━━━━━━━━━━━━━━━━━━━━━━━\u001b[0m \u001b[35m100%\u001b[0m \u001b[33m01.21s   \u001b[0m  \n│   │       └──   \u001b[31mset for passenger_count      \u001b[0m \u001b[38;2;114;156;31m━━━━━━━━━━━━━━━━━━━━━━━━━━━━\u001b[0m \u001b[35m100%\u001b[0m \u001b[33m01.20s[1]\u001b[0m  \n│   └──   \u001b[31maggregators                          \u001b[0m \u001b[38;2;114;156;31m━━━━━━━━━━━━━━━━━━━━━━━━━━━━\u001b[0m \u001b[35m100%\u001b[0m \u001b[33m00.18s   \u001b[0m  \n│       └──   \u001b[31mvaex.agg.count('*')              \u001b[0m \u001b[38;2;114;156;31m━━━━━━━━━━━━━━━━━━━━━━━━━━━━\u001b[0m \u001b[35m100%\u001b[0m \u001b[33m00.17s[2]\u001b[0m  \n├──   \u001b[31mgroupby                                  \u001b[0m \u001b[38;2;114;156;31m━━━━━━━━━━━━━━━━━━━━━━━━━━━━\u001b[0m \u001b[35m100%\u001b[0m \u001b[33m01.39s   \u001b[0m  \n│   ├──   \u001b[31mgroupers                             \u001b[0m \u001b[38;2;114;156;31m━━━━━━━━━━━━━━━━━━━━━━━━━━━━\u001b[0m \u001b[35m100%\u001b[0m \u001b[33m01.21s   \u001b[0m  \n│   │   └──   \u001b[31mgrouper: 'vendor_id'             \u001b[0m \u001b[38;2;114;156;31m━━━━━━━━━━━━━━━━━━━━━━━━━━━━\u001b[0m \u001b[35m100%\u001b[0m \u001b[33m01.21s   \u001b[0m  \n│   │       └──   \u001b[31mset for vendor_id            \u001b[0m \u001b[38;2;114;156;31m━━━━━━━━━━━━━━━━━━━━━━━━━━━━\u001b[0m \u001b[35m100%\u001b[0m \u001b[33m01.20s[1]\u001b[0m  \n│   └──   \u001b[31maggregators                          \u001b[0m \u001b[38;2;114;156;31m━━━━━━━━━━━━━━━━━━━━━━━━━━━━\u001b[0m \u001b[35m100%\u001b[0m \u001b[33m00.18s   \u001b[0m  \n│       ├──   \u001b[31mvaex.agg.sum('tip_amount')       \u001b[0m \u001b[38;2;114;156;31m━━━━━━━━━━━━━━━━━━━━━━━━━━━━\u001b[0m \u001b[35m100%\u001b[0m \u001b[33m00.17s[2]\u001b[0m  \n│       └──   \u001b[31mvaex.agg.count('*')              \u001b[0m \u001b[38;2;114;156;31m━━━━━━━━━━━━━━━━━━━━━━━━━━━━\u001b[0m \u001b[35m100%\u001b[0m \u001b[33m00.17s[2]\u001b[0m  \n└──   \u001b[31mmean                                     \u001b[0m \u001b[38;2;114;156;31m━━━━━━━━━━━━━━━━━━━━━━━━━━━━\u001b[0m \u001b[35m100%\u001b[0m \u001b[33m01.21s   \u001b[0m  \n    └──   \u001b[31mvaex.agg.mean('tip_amount')          \u001b[0m \u001b[38;2;114;156;31m━━━━━━━━━━━━━━━━━━━━━━━━━━━━\u001b[0m \u001b[35m100%\u001b[0m \u001b[33m01.20s   \u001b[0m  \n        ├──   \u001b[31mvaex.agg.sum('tip_amount')       \u001b[0m \u001b[38;2;114;156;31m━━━━━━━━━━━━━━━━━━━━━━━━━━━━\u001b[0m \u001b[35m100%\u001b[0m \u001b[33m01.20s[1]\u001b[0m  \n        └──   \u001b[31mvaex.agg.count('tip_amount')     \u001b[0m \u001b[38;2;114;156;31m━━━━━━━━━━━━━━━━━━━━━━━━━━━━\u001b[0m \u001b[35m100%\u001b[0m \u001b[33m01.20s[1]\u001b[0m  \n"
         },
         "metadata": {},
         "output_type": "display_data"
        }
       ]
      }
     },
     "da2ee0a999be4009a742072a2976cbef": {
      "model_module": "@jupyter-widgets/output",
      "model_module_version": "1.0.0",
      "model_name": "OutputModel",
      "state": {
       "layout": "IPY_MODEL_289658fda42547caa8f582c40f2fc44a",
       "outputs": [
        {
         "data": {
          "text/html": "<pre style=\"white-space:pre;overflow-x:auto;line-height:normal;font-family:Menlo,'DejaVu Sans Mono',consolas,'Courier New',monospace\">  <span style=\"color: #800000; text-decoration-color: #800000\">My Vaex computations                         </span> <span style=\"color: #729c1f; text-decoration-color: #729c1f\">━━━━━━━━━━━━━━━━━━━━━━━━━━━━</span> <span style=\"color: #800080; text-decoration-color: #800080\">100%</span> <span style=\"color: #808000; text-decoration-color: #808000\">00.09s   </span>  \n├── <span style=\"color: #008000; text-decoration-color: #008000\">⠙</span> <span style=\"color: #800000; text-decoration-color: #800000\">groupby                                  </span> <span style=\"color: #729c1f; text-decoration-color: #729c1f\">━━━━━━━━━━━━━━━━━━━━━━━━━━━━</span> <span style=\"color: #800080; text-decoration-color: #800080\">100%</span> <span style=\"color: #808000; text-decoration-color: #808000\">00.10s   </span>  \n│   ├──   <span style=\"color: #800000; text-decoration-color: #800000\">groupers                             </span> <span style=\"color: #729c1f; text-decoration-color: #729c1f\">━━━━━━━━━━━━━━━━━━━━━━━━━━━━</span> <span style=\"color: #800080; text-decoration-color: #800080\">100%</span> <span style=\"color: #808000; text-decoration-color: #808000\">00.00s   </span>  \n│   │   └──   <span style=\"color: #800000; text-decoration-color: #800000\">grouper: 'passenger_count'       </span> <span style=\"color: #729c1f; text-decoration-color: #729c1f\">━━━━━━━━━━━━━━━━━━━━━━━━━━━━</span> <span style=\"color: #800080; text-decoration-color: #800080\">100%</span> <span style=\"color: #808000; text-decoration-color: #808000\">00.00s   </span>  \n│   │       └──   <span style=\"color: #800000; text-decoration-color: #800000\">set for passenger_count      </span> <span style=\"color: #729c1f; text-decoration-color: #729c1f\">━━━━━━━━━━━━━━━━━━━</span> <span style=\"color: #800080; text-decoration-color: #800080\">100%</span> <span style=\"color: #808000; text-decoration-color: #808000\">00.00s   </span> <span style=\"color: #800000; text-decoration-color: #800000\">from cache</span>\n│   └──   <span style=\"color: #800000; text-decoration-color: #800000\">aggregators                          </span> <span style=\"color: #729c1f; text-decoration-color: #729c1f\">━━━━━━━━━━━━━━━━━━━━━━━━━━━━</span> <span style=\"color: #800080; text-decoration-color: #800080\">100%</span> <span style=\"color: #808000; text-decoration-color: #808000\">00.00s   </span>  \n│       └──   <span style=\"color: #800000; text-decoration-color: #800000\">vaex.agg.count('*')              </span> <span style=\"color: #729c1f; text-decoration-color: #729c1f\">━━━━━━━━━━━━━━━━━━━</span> <span style=\"color: #800080; text-decoration-color: #800080\">100%</span> <span style=\"color: #808000; text-decoration-color: #808000\">00.00s   </span> <span style=\"color: #800000; text-decoration-color: #800000\">from cache</span>\n├── <span style=\"color: #008000; text-decoration-color: #008000\">⠋</span> <span style=\"color: #800000; text-decoration-color: #800000\">groupby                                  </span> <span style=\"color: #729c1f; text-decoration-color: #729c1f\">━━━━━━━━━━━━━━━━━━━━━━━━━━━━</span> <span style=\"color: #800080; text-decoration-color: #800080\">100%</span> <span style=\"color: #808000; text-decoration-color: #808000\">00.09s   </span>  \n│   ├──   <span style=\"color: #800000; text-decoration-color: #800000\">groupers                             </span> <span style=\"color: #729c1f; text-decoration-color: #729c1f\">━━━━━━━━━━━━━━━━━━━━━━━━━━━━</span> <span style=\"color: #800080; text-decoration-color: #800080\">100%</span> <span style=\"color: #808000; text-decoration-color: #808000\">00.00s   </span>  \n│   │   └──   <span style=\"color: #800000; text-decoration-color: #800000\">grouper: 'vendor_id'             </span> <span style=\"color: #729c1f; text-decoration-color: #729c1f\">━━━━━━━━━━━━━━━━━━━━━━━━━━━━</span> <span style=\"color: #800080; text-decoration-color: #800080\">100%</span> <span style=\"color: #808000; text-decoration-color: #808000\">00.00s   </span>  \n│   │       └──   <span style=\"color: #800000; text-decoration-color: #800000\">set for vendor_id            </span> <span style=\"color: #729c1f; text-decoration-color: #729c1f\">━━━━━━━━━━━━━━━━━━━</span> <span style=\"color: #800080; text-decoration-color: #800080\">100%</span> <span style=\"color: #808000; text-decoration-color: #808000\">00.00s   </span> <span style=\"color: #800000; text-decoration-color: #800000\">from cache</span>\n│   └── <span style=\"color: #008000; text-decoration-color: #008000\">⠋</span> <span style=\"color: #800000; text-decoration-color: #800000\">aggregators                          </span> <span style=\"color: #729c1f; text-decoration-color: #729c1f\">━━━━━━━━━━━━━━━━━━━━━━━━━━━━</span> <span style=\"color: #800080; text-decoration-color: #800080\">100%</span> <span style=\"color: #808000; text-decoration-color: #808000\">00.08s   </span>  \n│       ├──   <span style=\"color: #800000; text-decoration-color: #800000\">vaex.agg.sum('tip_amount')       </span> <span style=\"color: #729c1f; text-decoration-color: #729c1f\">━━━━━━━━━━━━━━━━━━━</span> <span style=\"color: #800080; text-decoration-color: #800080\">100%</span> <span style=\"color: #808000; text-decoration-color: #808000\">00.00s   </span> <span style=\"color: #800000; text-decoration-color: #800000\">from cache</span>\n│       └──   <span style=\"color: #800000; text-decoration-color: #800000\">vaex.agg.count('*')              </span> <span style=\"color: #729c1f; text-decoration-color: #729c1f\">━━━━━━━━━━━━━━━━━━━</span> <span style=\"color: #800080; text-decoration-color: #800080\">100%</span> <span style=\"color: #808000; text-decoration-color: #808000\">00.00s   </span> <span style=\"color: #800000; text-decoration-color: #800000\">from cache</span>\n└──   <span style=\"color: #800000; text-decoration-color: #800000\">mean                                     </span> <span style=\"color: #729c1f; text-decoration-color: #729c1f\">━━━━━━━━━━━━━━━━━━━━━━━━━━━━</span> <span style=\"color: #800080; text-decoration-color: #800080\">100%</span> <span style=\"color: #808000; text-decoration-color: #808000\">00.03s   </span>  \n    └──   <span style=\"color: #800000; text-decoration-color: #800000\">vaex.agg.mean('tip_amount')          </span> <span style=\"color: #729c1f; text-decoration-color: #729c1f\">━━━━━━━━━━━━━━━━━━━━━━━━━━━━</span> <span style=\"color: #800080; text-decoration-color: #800080\">100%</span> <span style=\"color: #808000; text-decoration-color: #808000\">00.03s   </span>  \n        ├──   <span style=\"color: #800000; text-decoration-color: #800000\">vaex.agg.sum('tip_amount')       </span> <span style=\"color: #729c1f; text-decoration-color: #729c1f\">━━━━━━━━━━━━━━━━━━━━━━━━━━━━</span> <span style=\"color: #800080; text-decoration-color: #800080\">100%</span> <span style=\"color: #808000; text-decoration-color: #808000\">00.03s[1]</span>  \n        └──   <span style=\"color: #800000; text-decoration-color: #800000\">vaex.agg.count('tip_amount')     </span> <span style=\"color: #729c1f; text-decoration-color: #729c1f\">━━━━━━━━━━━━━━━━━━━━━━━━━━━━</span> <span style=\"color: #800080; text-decoration-color: #800080\">100%</span> <span style=\"color: #808000; text-decoration-color: #808000\">00.03s[1]</span>  \n</pre>\n",
          "text/plain": "  \u001b[31mMy Vaex computations                         \u001b[0m \u001b[38;2;114;156;31m━━━━━━━━━━━━━━━━━━━━━━━━━━━━\u001b[0m \u001b[35m100%\u001b[0m \u001b[33m00.09s   \u001b[0m  \n├── \u001b[32m⠙\u001b[0m \u001b[31mgroupby                                  \u001b[0m \u001b[38;2;114;156;31m━━━━━━━━━━━━━━━━━━━━━━━━━━━━\u001b[0m \u001b[35m100%\u001b[0m \u001b[33m00.10s   \u001b[0m  \n│   ├──   \u001b[31mgroupers                             \u001b[0m \u001b[38;2;114;156;31m━━━━━━━━━━━━━━━━━━━━━━━━━━━━\u001b[0m \u001b[35m100%\u001b[0m \u001b[33m00.00s   \u001b[0m  \n│   │   └──   \u001b[31mgrouper: 'passenger_count'       \u001b[0m \u001b[38;2;114;156;31m━━━━━━━━━━━━━━━━━━━━━━━━━━━━\u001b[0m \u001b[35m100%\u001b[0m \u001b[33m00.00s   \u001b[0m  \n│   │       └──   \u001b[31mset for passenger_count      \u001b[0m \u001b[38;2;114;156;31m━━━━━━━━━━━━━━━━━━━\u001b[0m \u001b[35m100%\u001b[0m \u001b[33m00.00s   \u001b[0m \u001b[31mfrom cache\u001b[0m\n│   └──   \u001b[31maggregators                          \u001b[0m \u001b[38;2;114;156;31m━━━━━━━━━━━━━━━━━━━━━━━━━━━━\u001b[0m \u001b[35m100%\u001b[0m \u001b[33m00.00s   \u001b[0m  \n│       └──   \u001b[31mvaex.agg.count('*')              \u001b[0m \u001b[38;2;114;156;31m━━━━━━━━━━━━━━━━━━━\u001b[0m \u001b[35m100%\u001b[0m \u001b[33m00.00s   \u001b[0m \u001b[31mfrom cache\u001b[0m\n├── \u001b[32m⠋\u001b[0m \u001b[31mgroupby                                  \u001b[0m \u001b[38;2;114;156;31m━━━━━━━━━━━━━━━━━━━━━━━━━━━━\u001b[0m \u001b[35m100%\u001b[0m \u001b[33m00.09s   \u001b[0m  \n│   ├──   \u001b[31mgroupers                             \u001b[0m \u001b[38;2;114;156;31m━━━━━━━━━━━━━━━━━━━━━━━━━━━━\u001b[0m \u001b[35m100%\u001b[0m \u001b[33m00.00s   \u001b[0m  \n│   │   └──   \u001b[31mgrouper: 'vendor_id'             \u001b[0m \u001b[38;2;114;156;31m━━━━━━━━━━━━━━━━━━━━━━━━━━━━\u001b[0m \u001b[35m100%\u001b[0m \u001b[33m00.00s   \u001b[0m  \n│   │       └──   \u001b[31mset for vendor_id            \u001b[0m \u001b[38;2;114;156;31m━━━━━━━━━━━━━━━━━━━\u001b[0m \u001b[35m100%\u001b[0m \u001b[33m00.00s   \u001b[0m \u001b[31mfrom cache\u001b[0m\n│   └── \u001b[32m⠋\u001b[0m \u001b[31maggregators                          \u001b[0m \u001b[38;2;114;156;31m━━━━━━━━━━━━━━━━━━━━━━━━━━━━\u001b[0m \u001b[35m100%\u001b[0m \u001b[33m00.08s   \u001b[0m  \n│       ├──   \u001b[31mvaex.agg.sum('tip_amount')       \u001b[0m \u001b[38;2;114;156;31m━━━━━━━━━━━━━━━━━━━\u001b[0m \u001b[35m100%\u001b[0m \u001b[33m00.00s   \u001b[0m \u001b[31mfrom cache\u001b[0m\n│       └──   \u001b[31mvaex.agg.count('*')              \u001b[0m \u001b[38;2;114;156;31m━━━━━━━━━━━━━━━━━━━\u001b[0m \u001b[35m100%\u001b[0m \u001b[33m00.00s   \u001b[0m \u001b[31mfrom cache\u001b[0m\n└──   \u001b[31mmean                                     \u001b[0m \u001b[38;2;114;156;31m━━━━━━━━━━━━━━━━━━━━━━━━━━━━\u001b[0m \u001b[35m100%\u001b[0m \u001b[33m00.03s   \u001b[0m  \n    └──   \u001b[31mvaex.agg.mean('tip_amount')          \u001b[0m \u001b[38;2;114;156;31m━━━━━━━━━━━━━━━━━━━━━━━━━━━━\u001b[0m \u001b[35m100%\u001b[0m \u001b[33m00.03s   \u001b[0m  \n        ├──   \u001b[31mvaex.agg.sum('tip_amount')       \u001b[0m \u001b[38;2;114;156;31m━━━━━━━━━━━━━━━━━━━━━━━━━━━━\u001b[0m \u001b[35m100%\u001b[0m \u001b[33m00.03s[1]\u001b[0m  \n        └──   \u001b[31mvaex.agg.count('tip_amount')     \u001b[0m \u001b[38;2;114;156;31m━━━━━━━━━━━━━━━━━━━━━━━━━━━━\u001b[0m \u001b[35m100%\u001b[0m \u001b[33m00.03s[1]\u001b[0m  \n"
         },
         "metadata": {},
         "output_type": "display_data"
        }
       ]
      }
     },
     "e0040cc1d4c9499fbf34c080269ab735": {
      "model_module": "@jupyter-widgets/output",
      "model_module_version": "1.0.0",
      "model_name": "OutputModel",
      "state": {
       "layout": "IPY_MODEL_1cb0f12811314311b98f344709d225d8",
       "outputs": [
        {
         "data": {
          "text/html": "<pre style=\"white-space:pre;overflow-x:auto;line-height:normal;font-family:Menlo,'DejaVu Sans Mono',consolas,'Courier New',monospace\">  <span style=\"color: #800000; text-decoration-color: #800000\">Warm up cache                                </span> <span style=\"color: #729c1f; text-decoration-color: #729c1f\">━━━━━━━━━━━━━━━━━━━━━━━━━━━━</span> <span style=\"color: #800080; text-decoration-color: #800080\">100%</span> <span style=\"color: #808000; text-decoration-color: #808000\">01.36s   </span>  \n├──   <span style=\"color: #800000; text-decoration-color: #800000\">groupby                                  </span> <span style=\"color: #729c1f; text-decoration-color: #729c1f\">━━━━━━━━━━━━━━━━━━━━━━━━━━━━</span> <span style=\"color: #800080; text-decoration-color: #800080\">100%</span> <span style=\"color: #808000; text-decoration-color: #808000\">01.35s   </span>  \n│   ├──   <span style=\"color: #800000; text-decoration-color: #800000\">groupers                             </span> <span style=\"color: #729c1f; text-decoration-color: #729c1f\">━━━━━━━━━━━━━━━━━━━━━━━━━━━━</span> <span style=\"color: #800080; text-decoration-color: #800080\">100%</span> <span style=\"color: #808000; text-decoration-color: #808000\">01.18s   </span>  \n│   │   └──   <span style=\"color: #800000; text-decoration-color: #800000\">grouper: 'passenger_count'       </span> <span style=\"color: #729c1f; text-decoration-color: #729c1f\">━━━━━━━━━━━━━━━━━━━━━━━━━━━━</span> <span style=\"color: #800080; text-decoration-color: #800080\">100%</span> <span style=\"color: #808000; text-decoration-color: #808000\">01.18s   </span>  \n│   │       └──   <span style=\"color: #800000; text-decoration-color: #800000\">set for passenger_count      </span> <span style=\"color: #729c1f; text-decoration-color: #729c1f\">━━━━━━━━━━━━━━━━━━━━━━━━━━━━</span> <span style=\"color: #800080; text-decoration-color: #800080\">100%</span> <span style=\"color: #808000; text-decoration-color: #808000\">01.18s[1]</span>  \n│   └──   <span style=\"color: #800000; text-decoration-color: #800000\">aggregators                          </span> <span style=\"color: #729c1f; text-decoration-color: #729c1f\">━━━━━━━━━━━━━━━━━━━━━━━━━━━━</span> <span style=\"color: #800080; text-decoration-color: #800080\">100%</span> <span style=\"color: #808000; text-decoration-color: #808000\">00.17s   </span>  \n│       └──   <span style=\"color: #800000; text-decoration-color: #800000\">vaex.agg.count('*')              </span> <span style=\"color: #729c1f; text-decoration-color: #729c1f\">━━━━━━━━━━━━━━━━━━━━━━━━━━━━</span> <span style=\"color: #800080; text-decoration-color: #800080\">100%</span> <span style=\"color: #808000; text-decoration-color: #808000\">00.16s[2]</span>  \n└──   <span style=\"color: #800000; text-decoration-color: #800000\">groupby                                  </span> <span style=\"color: #729c1f; text-decoration-color: #729c1f\">━━━━━━━━━━━━━━━━━━━━━━━━━━━━</span> <span style=\"color: #800080; text-decoration-color: #800080\">100%</span> <span style=\"color: #808000; text-decoration-color: #808000\">01.35s   </span>  \n    ├──   <span style=\"color: #800000; text-decoration-color: #800000\">groupers                             </span> <span style=\"color: #729c1f; text-decoration-color: #729c1f\">━━━━━━━━━━━━━━━━━━━━━━━━━━━━</span> <span style=\"color: #800080; text-decoration-color: #800080\">100%</span> <span style=\"color: #808000; text-decoration-color: #808000\">01.18s   </span>  \n    │   └──   <span style=\"color: #800000; text-decoration-color: #800000\">grouper: 'vendor_id'             </span> <span style=\"color: #729c1f; text-decoration-color: #729c1f\">━━━━━━━━━━━━━━━━━━━━━━━━━━━━</span> <span style=\"color: #800080; text-decoration-color: #800080\">100%</span> <span style=\"color: #808000; text-decoration-color: #808000\">01.18s   </span>  \n    │       └──   <span style=\"color: #800000; text-decoration-color: #800000\">set for vendor_id            </span> <span style=\"color: #729c1f; text-decoration-color: #729c1f\">━━━━━━━━━━━━━━━━━━━━━━━━━━━━</span> <span style=\"color: #800080; text-decoration-color: #800080\">100%</span> <span style=\"color: #808000; text-decoration-color: #808000\">01.18s[1]</span>  \n    └──   <span style=\"color: #800000; text-decoration-color: #800000\">aggregators                          </span> <span style=\"color: #729c1f; text-decoration-color: #729c1f\">━━━━━━━━━━━━━━━━━━━━━━━━━━━━</span> <span style=\"color: #800080; text-decoration-color: #800080\">100%</span> <span style=\"color: #808000; text-decoration-color: #808000\">00.16s   </span>  \n        ├──   <span style=\"color: #800000; text-decoration-color: #800000\">vaex.agg.sum('tip_amount')       </span> <span style=\"color: #729c1f; text-decoration-color: #729c1f\">━━━━━━━━━━━━━━━━━━━━━━━━━━━━</span> <span style=\"color: #800080; text-decoration-color: #800080\">100%</span> <span style=\"color: #808000; text-decoration-color: #808000\">00.16s[2]</span>  \n        └──   <span style=\"color: #800000; text-decoration-color: #800000\">vaex.agg.count('*')              </span> <span style=\"color: #729c1f; text-decoration-color: #729c1f\">━━━━━━━━━━━━━━━━━━━━━━━━━━━━</span> <span style=\"color: #800080; text-decoration-color: #800080\">100%</span> <span style=\"color: #808000; text-decoration-color: #808000\">00.16s[2]</span>  \n</pre>\n",
          "text/plain": "  \u001b[31mWarm up cache                                \u001b[0m \u001b[38;2;114;156;31m━━━━━━━━━━━━━━━━━━━━━━━━━━━━\u001b[0m \u001b[35m100%\u001b[0m \u001b[33m01.36s   \u001b[0m  \n├──   \u001b[31mgroupby                                  \u001b[0m \u001b[38;2;114;156;31m━━━━━━━━━━━━━━━━━━━━━━━━━━━━\u001b[0m \u001b[35m100%\u001b[0m \u001b[33m01.35s   \u001b[0m  \n│   ├──   \u001b[31mgroupers                             \u001b[0m \u001b[38;2;114;156;31m━━━━━━━━━━━━━━━━━━━━━━━━━━━━\u001b[0m \u001b[35m100%\u001b[0m \u001b[33m01.18s   \u001b[0m  \n│   │   └──   \u001b[31mgrouper: 'passenger_count'       \u001b[0m \u001b[38;2;114;156;31m━━━━━━━━━━━━━━━━━━━━━━━━━━━━\u001b[0m \u001b[35m100%\u001b[0m \u001b[33m01.18s   \u001b[0m  \n│   │       └──   \u001b[31mset for passenger_count      \u001b[0m \u001b[38;2;114;156;31m━━━━━━━━━━━━━━━━━━━━━━━━━━━━\u001b[0m \u001b[35m100%\u001b[0m \u001b[33m01.18s[1]\u001b[0m  \n│   └──   \u001b[31maggregators                          \u001b[0m \u001b[38;2;114;156;31m━━━━━━━━━━━━━━━━━━━━━━━━━━━━\u001b[0m \u001b[35m100%\u001b[0m \u001b[33m00.17s   \u001b[0m  \n│       └──   \u001b[31mvaex.agg.count('*')              \u001b[0m \u001b[38;2;114;156;31m━━━━━━━━━━━━━━━━━━━━━━━━━━━━\u001b[0m \u001b[35m100%\u001b[0m \u001b[33m00.16s[2]\u001b[0m  \n└──   \u001b[31mgroupby                                  \u001b[0m \u001b[38;2;114;156;31m━━━━━━━━━━━━━━━━━━━━━━━━━━━━\u001b[0m \u001b[35m100%\u001b[0m \u001b[33m01.35s   \u001b[0m  \n    ├──   \u001b[31mgroupers                             \u001b[0m \u001b[38;2;114;156;31m━━━━━━━━━━━━━━━━━━━━━━━━━━━━\u001b[0m \u001b[35m100%\u001b[0m \u001b[33m01.18s   \u001b[0m  \n    │   └──   \u001b[31mgrouper: 'vendor_id'             \u001b[0m \u001b[38;2;114;156;31m━━━━━━━━━━━━━━━━━━━━━━━━━━━━\u001b[0m \u001b[35m100%\u001b[0m \u001b[33m01.18s   \u001b[0m  \n    │       └──   \u001b[31mset for vendor_id            \u001b[0m \u001b[38;2;114;156;31m━━━━━━━━━━━━━━━━━━━━━━━━━━━━\u001b[0m \u001b[35m100%\u001b[0m \u001b[33m01.18s[1]\u001b[0m  \n    └──   \u001b[31maggregators                          \u001b[0m \u001b[38;2;114;156;31m━━━━━━━━━━━━━━━━━━━━━━━━━━━━\u001b[0m \u001b[35m100%\u001b[0m \u001b[33m00.16s   \u001b[0m  \n        ├──   \u001b[31mvaex.agg.sum('tip_amount')       \u001b[0m \u001b[38;2;114;156;31m━━━━━━━━━━━━━━━━━━━━━━━━━━━━\u001b[0m \u001b[35m100%\u001b[0m \u001b[33m00.16s[2]\u001b[0m  \n        └──   \u001b[31mvaex.agg.count('*')              \u001b[0m \u001b[38;2;114;156;31m━━━━━━━━━━━━━━━━━━━━━━━━━━━━\u001b[0m \u001b[35m100%\u001b[0m \u001b[33m00.16s[2]\u001b[0m  \n"
         },
         "metadata": {},
         "output_type": "display_data"
        }
       ]
      }
     },
     "f06de5997c7b471f9dc0ad6d3f207c5a": {
      "model_module": "@jupyter-widgets/base",
      "model_module_version": "1.2.0",
      "model_name": "LayoutModel",
      "state": {}
     },
     "fa243120954647079ba1917473cc7056": {
      "model_module": "@jupyter-widgets/output",
      "model_module_version": "1.0.0",
      "model_name": "OutputModel",
      "state": {
       "layout": "IPY_MODEL_26ac36d1aca8492c8c122c250cdaef39",
       "outputs": [
        {
         "data": {
          "text/html": "<pre style=\"white-space:pre;overflow-x:auto;line-height:normal;font-family:Menlo,'DejaVu Sans Mono',consolas,'Courier New',monospace\">  <span style=\"color: #800000; text-decoration-color: #800000\">Single pass using auto_execute               </span> <span style=\"color: #729c1f; text-decoration-color: #729c1f\">━━━━━━━━━━━━━━━━━━━━━━━━━━━━</span> <span style=\"color: #800080; text-decoration-color: #800080\">100%</span> <span style=\"color: #808000; text-decoration-color: #808000\">00.04s   </span>  \n├──   <span style=\"color: #800000; text-decoration-color: #800000\">sum                                      </span> <span style=\"color: #729c1f; text-decoration-color: #729c1f\">━━━━━━━━━━━━━━━━━━━━━━━━━━━━</span> <span style=\"color: #800080; text-decoration-color: #800080\">100%</span> <span style=\"color: #808000; text-decoration-color: #808000\">00.04s   </span>  \n│   └──   <span style=\"color: #800000; text-decoration-color: #800000\">vaex.agg.sum('tip_amount')           </span> <span style=\"color: #729c1f; text-decoration-color: #729c1f\">━━━━━━━━━━━━━━━━━━━━━━━━━━━━</span> <span style=\"color: #800080; text-decoration-color: #800080\">100%</span> <span style=\"color: #808000; text-decoration-color: #808000\">00.04s[1]</span>  \n└──   <span style=\"color: #800000; text-decoration-color: #800000\">sum                                      </span> <span style=\"color: #729c1f; text-decoration-color: #729c1f\">━━━━━━━━━━━━━━━━━━━━━━━━━━━━</span> <span style=\"color: #800080; text-decoration-color: #800080\">100%</span> <span style=\"color: #808000; text-decoration-color: #808000\">00.04s   </span>  \n    └──   <span style=\"color: #800000; text-decoration-color: #800000\">vaex.agg.sum('passenger_count')      </span> <span style=\"color: #729c1f; text-decoration-color: #729c1f\">━━━━━━━━━━━━━━━━━━━━━━━━━━━━</span> <span style=\"color: #800080; text-decoration-color: #800080\">100%</span> <span style=\"color: #808000; text-decoration-color: #808000\">00.04s[1]</span>  \n</pre>\n",
          "text/plain": "  \u001b[31mSingle pass using auto_execute               \u001b[0m \u001b[38;2;114;156;31m━━━━━━━━━━━━━━━━━━━━━━━━━━━━\u001b[0m \u001b[35m100%\u001b[0m \u001b[33m00.04s   \u001b[0m  \n├──   \u001b[31msum                                      \u001b[0m \u001b[38;2;114;156;31m━━━━━━━━━━━━━━━━━━━━━━━━━━━━\u001b[0m \u001b[35m100%\u001b[0m \u001b[33m00.04s   \u001b[0m  \n│   └──   \u001b[31mvaex.agg.sum('tip_amount')           \u001b[0m \u001b[38;2;114;156;31m━━━━━━━━━━━━━━━━━━━━━━━━━━━━\u001b[0m \u001b[35m100%\u001b[0m \u001b[33m00.04s[1]\u001b[0m  \n└──   \u001b[31msum                                      \u001b[0m \u001b[38;2;114;156;31m━━━━━━━━━━━━━━━━━━━━━━━━━━━━\u001b[0m \u001b[35m100%\u001b[0m \u001b[33m00.04s   \u001b[0m  \n    └──   \u001b[31mvaex.agg.sum('passenger_count')      \u001b[0m \u001b[38;2;114;156;31m━━━━━━━━━━━━━━━━━━━━━━━━━━━━\u001b[0m \u001b[35m100%\u001b[0m \u001b[33m00.04s[1]\u001b[0m  \n"
         },
         "metadata": {},
         "output_type": "display_data"
        }
       ]
      }
     },
     "fe929356bcee46bdbc5d760e9b7e0e13": {
      "model_module": "@jupyter-widgets/base",
      "model_module_version": "1.2.0",
      "model_name": "LayoutModel",
      "state": {}
     }
    },
    "version_major": 2,
    "version_minor": 0
   }
  }
 },
 "nbformat": 4,
 "nbformat_minor": 4
}
